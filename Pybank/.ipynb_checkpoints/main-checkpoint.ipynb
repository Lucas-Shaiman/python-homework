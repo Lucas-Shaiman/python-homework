{
 "cells": [
  {
   "cell_type": "code",
   "execution_count": 1,
   "id": "designed-repository",
   "metadata": {},
   "outputs": [],
   "source": [
    "# Importing libraries and dependecies\n",
    "from pathlib import Path\n",
    "import csv"
   ]
  },
  {
   "cell_type": "code",
   "execution_count": 2,
   "id": "italic-economy",
   "metadata": {},
   "outputs": [],
   "source": [
    "# Set the file path\n",
    "csvpath_input = Path('../Resources/budget_data.csv')\n",
    "csvpath_output = Path('output.txt')"
   ]
  },
  {
   "cell_type": "code",
   "execution_count": 3,
   "id": "precise-triple",
   "metadata": {},
   "outputs": [],
   "source": [
    "# Initialize the variables \n",
    "total_months = 0\n",
    "total_net = 0\n",
    "average_change = 0\n",
    "\n",
    "monthly_change = []\n",
    "net_change_list = []\n",
    "\n",
    "greatest_increase = [\"\", 0]\n",
    "greatest_decrease = [\"\", 99999999999]\n"
   ]
  },
  {
   "cell_type": "code",
   "execution_count": 4,
   "id": "reserved-western",
   "metadata": {},
   "outputs": [
    {
     "name": "stdout",
     "output_type": "stream",
     "text": [
      "Total Months: 86\n",
      "Total: $38382578\n",
      "Average Change: -2315.12\n",
      "Greatest Increase: ['Feb-2012', 1926159]\n",
      "Greatest Decrease: ['Sep-2013', -2196167]\n"
     ]
    }
   ],
   "source": [
    "with open(csvpath_input, \"r\") as input_file:\n",
    "    reader = csv.reader(input_file, delimiter=',')\n",
    "    \n",
    "    header = next(reader)\n",
    "    \n",
    "    first_row = next(reader)\n",
    "    total_months = total_months + 1\n",
    "    total_net = total_net + int(first_row[1])\n",
    "    prev_net = int(first_row[1])\n",
    "    \n",
    "    for row in reader:\n",
    "        \n",
    "        total_months = total_months + 1\n",
    "        total_net = total_net + int(row[1])\n",
    "        \n",
    "        \n",
    "        net_change = int(row[1]) - prev_net\n",
    "        prev_net = int(row[1])\n",
    "        net_change_list = net_change_list + [net_change]\n",
    "        \n",
    "        \n",
    "        if net_change > greatest_increase[1]:\n",
    "            greatest_increase[0] = row[0]\n",
    "            greatest_increase[1] = net_change\n",
    "        \n",
    "        if net_change < greatest_decrease[1]:\n",
    "            greatest_decrease[0] = row[0]\n",
    "            greatest_decrease[1] = net_change\n",
    "\n",
    "average_change = sum(net_change_list)/len(net_change_list)\n",
    "            \n",
    "            \n",
    "print(f\"Total Months: {total_months}\")\n",
    "print(f\"Total: ${total_net}\")\n",
    "print(f\"Average Change: {round(average_change,2)}\")\n",
    "print(f\"Greatest Increase: {greatest_increase}\")\n",
    "print(f\"Greatest Decrease: {greatest_decrease}\")\n",
    "\n",
    "\n"
   ]
  },
  {
   "cell_type": "code",
   "execution_count": 5,
   "id": "raising-speed",
   "metadata": {},
   "outputs": [],
   "source": [
    "with open(csvpath_output, 'w') as output_file:\n",
    "    output_file.write(\"Financial Analysis\\n\")\n",
    "    output_file.write(\"-----------------------------------\\n\")\n",
    "    output_file.write(f\"Total Months: {total_months}\\n\")\n",
    "    output_file.write(f\"Total Revenue:${total_net}\\n\")\n",
    "    output_file.write(f\"Average Change: ${round(average_change,2)}\\n\")\n",
    "    output_file.write(f\"Greatest Increase in Revenue: {greatest_increase}\\n\")\n",
    "    output_file.write(f\"Greatest Decrease in Revenue: {greatest_decrease}\\n\")\n"
   ]
  }
 ],
 "metadata": {
  "kernelspec": {
   "display_name": "Python 3",
   "language": "python",
   "name": "python3"
  },
  "language_info": {
   "codemirror_mode": {
    "name": "ipython",
    "version": 3
   },
   "file_extension": ".py",
   "mimetype": "text/x-python",
   "name": "python",
   "nbconvert_exporter": "python",
   "pygments_lexer": "ipython3",
   "version": "3.8.5"
  }
 },
 "nbformat": 4,
 "nbformat_minor": 5
}
